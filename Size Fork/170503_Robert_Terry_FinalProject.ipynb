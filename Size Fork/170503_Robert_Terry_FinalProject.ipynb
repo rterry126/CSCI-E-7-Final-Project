{
 "cells": [
  {
   "cell_type": "markdown",
   "metadata": {
    "collapsed": true
   },
   "source": [
    "### References  \n",
    "\n",
    "* Turnkey SMS code https://www.twilio.com/docs/guides/how-to-send-sms-messages-in-python\n",
    "* lat/long conversion to pixels http://stackoverflow.com/questions/1369512/converting-longitude-latitude-to-x-y-on-a-map-with-calibration-points \n",
    "x = (total width of image in px) * (180 + latitude) / 360 y = (total height of image in px) * (90 - longitude) / 180\n",
    "* d3plus.org - API for various chart types\n",
    "* https://docs.python.org/3/library/json.html - JSON methods\n",
    "* https://www.thehubway.com/system-data for data\n",
    "* Dictionary sort using a lambda function - http://stackoverflow.com/questions/72899/how-do-i-sort-a-list-of-dictionaries-by-values-of-the-dictionary-in-python\n",
    "\n"
   ]
  },
  {
   "cell_type": "markdown",
   "metadata": {},
   "source": [
    "# Libraries"
   ]
  },
  {
   "cell_type": "code",
   "execution_count": null,
   "metadata": {
    "collapsed": true
   },
   "outputs": [],
   "source": [
    "import urllib.request, json, time\n",
    "from twilio.rest import Client "
   ]
  },
  {
   "cell_type": "markdown",
   "metadata": {},
   "source": [
    "# Constants"
   ]
  },
  {
   "cell_type": "code",
   "execution_count": null,
   "metadata": {
    "collapsed": true
   },
   "outputs": [],
   "source": [
    "## The Two Hubway Feed URLs we need\n",
    "### Name, lat/long,ID\n",
    "URL_STATION_POSIT = 'https://gbfs.thehubway.com/gbfs/en/station_information.json'\n",
    "\n",
    "## Online?, capacity, bikes available, last rented, etc\n",
    "URL_STATION_AVAIL = 'https://gbfs.thehubway.com/gbfs/en/station_status.json'\n",
    "\n",
    "## When to send out low bike message\n",
    "ALERT_NUMBER = 5\n",
    "\n",
    "## Update our feed this often in seconds. \n",
    "TTL = 10 \n",
    "\n",
    "## How long for program to fetch live feed. Reads approximaely 6 times a minute (every 10 seconds)\n",
    "NUM_LOOPS = 60"
   ]
  },
  {
   "cell_type": "markdown",
   "metadata": {},
   "source": [
    "# Function Definitions\n",
    "\n",
    "\n"
   ]
  },
  {
   "cell_type": "markdown",
   "metadata": {},
   "source": [
    "### I/O Functions (JSON feed input and JSON file output)"
   ]
  },
  {
   "cell_type": "code",
   "execution_count": null,
   "metadata": {
    "collapsed": true
   },
   "outputs": [],
   "source": [
    "## Standard code for opening URL and returning JSON object\n",
    "def json_in(url):\n",
    "    \"\"\"Given a URL of a JSON feed, returns a dictionary object.\"\"\"\n",
    "    \n",
    "    try:\n",
    "        response = urllib.request.urlopen(url)\n",
    "    except urllib.error.HTTPError as e1:\n",
    "        print(e1)\n",
    "    else:\n",
    "        #use json.loads to unpack the json\n",
    "        return json.loads(response.read().decode('utf-8'))\n",
    "    \n",
    "\n",
    "## we'll use a function for less code and cleanliness\n",
    "def json_out(out_file_name, data, var_text):\n",
    "    \"\"\"Takes a JSON formatted dictionary, modifies by adding a Javascript variable assignment, and outputs to \n",
    "    a file.\"\"\"\n",
    "    with open(out_file_name, mode = 'w') as f:\n",
    "        f.write(\"var \" + var_text + \" =\") #Kaleigh added this\n",
    "        json.dump(data , f,indent = 2)"
   ]
  },
  {
   "cell_type": "markdown",
   "metadata": {},
   "source": [
    "### Set color status of station. Color levels are arbitrary"
   ]
  },
  {
   "cell_type": "code",
   "execution_count": null,
   "metadata": {
    "collapsed": true
   },
   "outputs": [],
   "source": [
    "\n",
    "def set_color_status(current_station):\n",
    "    \"\"\"Given a quantity of bikes, sets the 'color' of the station to red/yellow/green based upon arbitrary limits.\"\"\"\n",
    "    #print(current_station)\n",
    "    bikes = current_station['num_bikes_available']\n",
    "    current_station['color'] = 'red' if bikes < 3 else 'yellow' if bikes < 6 else 'green'\n"
   ]
  },
  {
   "cell_type": "markdown",
   "metadata": {},
   "source": [
    "### Convert lat/long to x/y pixels\n",
    "For the visualization software I'm using the points plotted are required to be x,y, not lat/lon.\n",
    "\n",
    "Challenge was to convert lat/long to x,y screen positions and have the nodes be at the approx relative positions.\n",
    "Also need to ensure that East/West, North/South is translated correctly to x/y pixel coordinate system. Mostly\n",
    "trial error, but common sense, like knowing Kenmore should be to the left of South Station on network \n",
    "and thus smaller x value helps.\n",
    "\n",
    "(+71.05)*10000, et al is simply for giving a more granular pixel result, since plotting without this adjustment\n",
    "gives us pixels VERY close to each other. Basically adjusting to fit and fill the screen.\n",
    "\n",
    "Reference cited for initial formula, adjustment was mine using trial and error."
   ]
  },
  {
   "cell_type": "code",
   "execution_count": null,
   "metadata": {
    "collapsed": true
   },
   "outputs": [],
   "source": [
    "## GOOD CODE -4/26###\n",
    "\n",
    "## Convert lat/long to x/y screen position. See detailed notes\n",
    "def lon_to_x(lon):\n",
    "    \"\"\"Converts longitude into pixels for display.\"\"\"\n",
    "    return round((40)*(90 +(float(lon)+71.05)*10000) / 180,2)\n",
    "\n",
    "def lat_to_y(lat):\n",
    "    \"\"\"Converts latitude into pixels for display\"\"\"\n",
    "    return round((70)*(180 -(float(lat)-42.35)*10000) / 360,2)"
   ]
  },
  {
   "cell_type": "markdown",
   "metadata": {},
   "source": [
    "### Shorten Name\n",
    "Some stations have very long names. For consistency and display purposes shorten all names to 5 'words'."
   ]
  },
  {
   "cell_type": "code",
   "execution_count": null,
   "metadata": {
    "collapsed": true
   },
   "outputs": [],
   "source": [
    "## shorten the name of station to first 5 words. Here for mainly cleanliness in code below        \n",
    "def shorten(station):\n",
    "    \"\"\"Given a string of words, shortens to 5 words and returns shortened string.\"\"\"\n",
    "    return' '.join(station.split( )[:5])"
   ]
  },
  {
   "cell_type": "markdown",
   "metadata": {},
   "source": [
    "### Use a print function for cell printing. This keeps our code cleaner as we are print various dictionary items and it's quite messy"
   ]
  },
  {
   "cell_type": "code",
   "execution_count": null,
   "metadata": {
    "collapsed": false
   },
   "outputs": [],
   "source": [
    "def print_status_console(station):\n",
    "    \"\"\"Prints status of stations with activity during the update loop.\"\"\"\n",
    "    \n",
    "    print('Time reported -',time.ctime(station['last_reported']))\n",
    "    print(dict_bikes_master[station['station_id']]['name'])\n",
    "   \n",
    "    print('Change of',current_bikes_avail - previous_bikes_avail, 'bikes')\n",
    "    print(current_bikes_avail, '- currently available')\n",
    "    print(previous_bikes_avail, '- previously available\\n')"
   ]
  },
  {
   "cell_type": "markdown",
   "metadata": {},
   "source": [
    "### SMS Functions"
   ]
  },
  {
   "cell_type": "code",
   "execution_count": null,
   "metadata": {
    "collapsed": false
   },
   "outputs": [],
   "source": [
    "## This function actually sends the SMS message, via Twilio. Turnkey code from their website.\n",
    "\n",
    "## set a default value for map_location so we can use this for variety of texts\n",
    "def send_sms_alert(message, map_location = ''):\n",
    "    \"\"\"Sends a sms message via Twilio using credentials saved as environmental variables. Takes a text string\n",
    "    as a parameter with 2nd option parameter appended to the first. Both parameters make up body of sms.\"\"\"\n",
    "\n",
    "    ## Credentials go below\n",
    "    ACCOUNT_SID = '' ## Your credientials here\n",
    "    AUTH_TOKEN = ''\n",
    " \n",
    "    client = Client(ACCOUNT_SID, AUTH_TOKEN) #- Rest Client looks for credentials in environ variables\n",
    "    client.messages.create(\n",
    "        to=\"your text to number here\", ## format +16175551212 for example\n",
    "        from_=\"your Twilio number here\",  ## this is TWILIO account phone number\n",
    "        body = message + map_location)\n",
    "    \n",
    "        \n",
    "    print('SMS message sent ', message) ## Console feedback\n",
    "\n",
    "##############################################################\n",
    "\n",
    "## Forms the message to send to the Twilio function to actually send\n",
    "\n",
    "## default msg (sent most often) will be low bikes; others added as needed\n",
    "def send_alert(id, msg = 1):\n",
    "    \"\"\"Given a station ID and optional message type, forms the message body and then calls send_sms_alert with\n",
    "    text of message and Apple Maps URL giving station location. Can be extended for other text alert types.\"\"\"\n",
    "    ### form the message, then call the actual function that sends it above. This function should be able to send a\n",
    "    # variety of message types. After message is formed we'll pass it cleanly to the function above\n",
    "    \n",
    "    ## we don't need statement below but keeping as a reminder that this dict is able to be referenced whether we\n",
    "    ## pass it or not as it's passed by reference not value\n",
    "    global dict_bikes_master\n",
    "    \n",
    "    lat = dict_bikes_master[id]['lat']\n",
    "    lon = dict_bikes_master[id]['lon']\n",
    "    stat_name = dict_bikes_master[id]['name']\n",
    "    \n",
    "    if msg == 1: ## future expansion for other alert messages. As of now msg will ALWAYS == 1 as it's default\n",
    "        bikes_available = dict_bikes_master[id]['num_bikes_available']\n",
    "        message_to_send = stat_name +' is low on bikes. ' + str(bikes_available) + ' available.'\n",
    "        \n",
    "    ## URL to display station location and name in IOS or Maps app\n",
    "    map_location = 'http://maps.apple.com/?ll='+str(lat)+','+str(lon)+'&q='+stat_name.replace(' ', '%20')\n",
    "        \n",
    "    ## execute Twilio message\n",
    "    send_sms_alert(message_to_send, map_location)"
   ]
  },
  {
   "cell_type": "markdown",
   "metadata": {},
   "source": [
    "## Main Code Starts Here!\n",
    "\n",
    "The two JSON feeds give us the station name, posit, in one feed and the other feed gives us the number of bikes at each station ID. Fetch both and put all data into one master dictionary.  We'll then use this bike quantity as our 'zero' point to compare against and see the  total rental/return activity at each station. We then re-query the feed and the stations that have a change in quantity have activity, which we will visualize. "
   ]
  },
  {
   "cell_type": "markdown",
   "metadata": {},
   "source": [
    "#### So this is JSON object for one station. There is last updated time  for the feed (usually every 10 seconds) as well as the station bike information. Right now all we care about is if station 'is_renting', 'num_bikes_available', and 'last_reported'. The 'last_updated' time is important to ensure we hava a current feed; the 'last_reported' time is used to determine which stations to look at (those reported since our last feed query).\n",
    "\n",
    "#### The feed we are parsing has over 200 stations.\n",
    "\n",
    "{\"last_updated\":1493467716,\"TTL\":10,\"data\":{\"stations\":[{\"station_id\":\"3\",\"num_bikes_available\":12,\"num_bikes_disabled\":0,\"num_docks_available\":3,\"num_docks_disabled\":0,\n",
    "\"is_installed\":1,\"is_renting\":1,\"is_returning\":1,\"last_reported\":1493461399,\"eightd_has_available_keys\":false}\n",
    "\n",
    "#### And this is the JSON object for station location. We only query this once for the program, as all are interested in is the lat/long as well as the actual name\n",
    "\n",
    "{\"last_updated\":1493467921,\"TTL\":10,\"data\":{\"stations\":\n",
    "[{\"station_id\":\"3\",\"name\":\"Colleges of the Fenway - Fenway at Avenue Louis Pasteur\",\"short_name\":\"B32006\",\"lat\":42.340021,\"lon\":-71.100812,\"region_id\":10,\"rental_methods\":[\"KEY\",\"CREDITCARD\"],\"capacity\":15,\"eightd_has_key_dispenser\":true}"
   ]
  },
  {
   "cell_type": "code",
   "execution_count": null,
   "metadata": {
    "collapsed": true
   },
   "outputs": [],
   "source": [
    "## get bikes available at online stations\n",
    "json_bikes_avail = json_in(URL_STATION_AVAIL)\n",
    "json_station_locations = json_in(URL_STATION_POSIT)\n",
    "\n",
    "\n",
    "dict_bikes_master = {}\n",
    "\n",
    "## station is open so we can plot it and update the mster dict. 220 is a test station we need to exclude\n",
    "for station in json_bikes_avail['data']['stations']:    \n",
    "    if station['is_renting'] == 1 and station['station_id']!= '220': \n",
    "        \n",
    "        ## We're not going to use all of the data from the feed but it's easier to get all the data as opposed \n",
    "        ## to just what we need\n",
    "        dict_bikes_master[station['station_id']] = station\n",
    "        dict_bikes_master[station['station_id']]['total_activity'] = 0 ## Cumlative rental/return.\n",
    "        \n",
    "        ## Station color of our viz indicating current bike quantity\n",
    "        set_color_status(dict_bikes_master[station['station_id']])"
   ]
  },
  {
   "cell_type": "markdown",
   "metadata": {},
   "source": [
    "### Start of our master dictionary\n",
    "\n",
    "The only thing missing is lat/long (position of each station) as well as its proper name. We will get that from the 2nd JSON feed and add. Sample below of what dictionary contains so far."
   ]
  },
  {
   "cell_type": "code",
   "execution_count": null,
   "metadata": {
    "collapsed": false
   },
   "outputs": [],
   "source": [
    "print(dict_bikes_master['7'])\n",
    "\n",
    "## Now we just need the posit and the actual station name"
   ]
  },
  {
   "cell_type": "markdown",
   "metadata": {},
   "source": [
    "## Now finish master dict with location and name info"
   ]
  },
  {
   "cell_type": "code",
   "execution_count": null,
   "metadata": {
    "collapsed": false
   },
   "outputs": [],
   "source": [
    "\n",
    "\n",
    "for station in (json_station_locations['data']['stations']):\n",
    "\n",
    "    ## we just want to add to stations that are open, which is what our master dict contains. json_station_location \n",
    "    ## has ALL the stations so we can use try/except to skip the ones which aren't in our master dict, ie. the \n",
    "    ## closed ones.\n",
    "    ## Assignment serves 2nd purpose, i.e. to clean up code below as well\n",
    "    try:\n",
    "        dict_cur_stat = dict_bikes_master[station['station_id']] ## temp variable to clean up code\n",
    "        \n",
    "        \n",
    "    except KeyError:\n",
    "        pass ## i.e. go to the next station in the for loop as this station isn't in our master dict, it's closed\n",
    "    \n",
    "    else:\n",
    "        ## Clean up name for display purposes\n",
    "        dict_cur_stat['name'] = shorten(station['name'])\n",
    "        \n",
    "        ## need lat/lon for sending sms with map posit\n",
    "        dict_cur_stat['lat'], dict_cur_stat['lon'] = station['lat'], station['lon'] \n",
    "                \n",
    "        ## go ahead and convert to pixels while we are fetching lat and lon\n",
    "        dict_cur_stat['y'], dict_cur_stat['x'] = lat_to_y(station['lat']), lon_to_x(station['lon'])  \n",
    "                     \n",
    "        ## Region is city, i.e. Boston, Cambridge, Somerville, Brookline. Fetch as we might use in the future\n",
    "        dict_cur_stat['region_id'] = station['region_id']"
   ]
  },
  {
   "cell_type": "markdown",
   "metadata": {},
   "source": [
    "### Final structure of master dictionary"
   ]
  },
  {
   "cell_type": "code",
   "execution_count": null,
   "metadata": {
    "collapsed": false
   },
   "outputs": [],
   "source": [
    "print(dict_bikes_master['7'])"
   ]
  },
  {
   "cell_type": "markdown",
   "metadata": {},
   "source": [
    "So now we have our station posits and baseline activity (0) as well as color status indicating their current quantity. Update the variable for last time compared which is from the feed. The basic infrastructure is in place, now just query the availability feed in semi real time, compare and update our soon to be made JSON output files."
   ]
  },
  {
   "cell_type": "code",
   "execution_count": null,
   "metadata": {
    "collapsed": false,
    "scrolled": false
   },
   "outputs": [],
   "source": [
    "## update our point of comparison time\n",
    "## we'll use this later to only look for stations that have 'reported in' ('last_reported') after this time\n",
    "last_compared_time = json_bikes_avail['last_updated']"
   ]
  },
  {
   "cell_type": "markdown",
   "metadata": {},
   "source": [
    "# Update Loop Starts Here!\n",
    "\n",
    "So the only way to determine if a bike has been rented or returned is to compare current availability to previous availability. We have our baseline from above. Now below we will fetch all the bike availability do math, and see changes if any. Then we will update the availability and repeat....\n"
   ]
  },
  {
   "cell_type": "code",
   "execution_count": null,
   "metadata": {
    "collapsed": false,
    "scrolled": false
   },
   "outputs": [],
   "source": [
    "### MAIN ###########\n",
    "count = 0\n",
    "\n",
    "\n",
    "## So that it doesn't run indefinitely, we will loop for specific time, set in the 'Constants' cell. Can run cell\n",
    "## again without any variables being reset or run a few minutes later. It's just going to compare data to the\n",
    "## master dict and use the last updated time.\n",
    "\n",
    "while count < NUM_LOOPS:\n",
    "    \n",
    "    count_query_feed = 0 ## if JSON feed has not been updated we requery every 2 seonds for 15 attempts\n",
    "    \n",
    "    ## Lists that are written to JSON file\n",
    "    json_list_bikes_avail = []\n",
    "    json_list_stations_locations = []\n",
    "  \n",
    "    ## pause for the TTL time of the update feed. Don't want to run this right after the above cell has run\n",
    "    ## so we pause at the beginning of the loop for the TTL time (set in constants). This value is hardcoded\n",
    "    ## from the Hubway JSON feed and determined by Hubway. We could update less frequently if we are hitting\n",
    "    ## server too often but this approximates 'real time' data \n",
    "    time.sleep(TTL)\n",
    "    \n",
    "    \n",
    "    ## Get latest bike availability\n",
    "    json_bikes_avail_updated = json_in(URL_STATION_AVAIL)\n",
    "    \n",
    "    ## feed is updated every 10 seconds and we are hitting every 10 seconds. In case we are a little early\n",
    "    ## or feed is a little slow and the updated time hasn't changed, we will pause for 2 seconds and try again\n",
    "    \n",
    "    \n",
    "    while (json_bikes_avail_updated['last_updated'] == last_compared_time) and (count_query_feed < 15):\n",
    "        if count_query_feed == 14:\n",
    "            print('\\n\\nAttempting last update. Please check feed status and try later.\\n\\n')\n",
    "        time.sleep(2)\n",
    "        count_query_feed += 1\n",
    "        json_bikes_avail_updated = json_in(URL_STATION_AVAIL)\n",
    "    \n",
    "    \n",
    "    ##  display current feed time\n",
    "    \n",
    "    ## Convert from epoch time and display current feed time. Ideally should display every 10 seconds\n",
    "    print('Current feed time is-', time.ctime(json_bikes_avail_updated['last_updated']),'\\n\\n')\n",
    "    \n",
    "#################\n",
    "    \n",
    "    ## sort now for display purposes later on screen\n",
    "    for station in sorted(json_bikes_avail_updated['data']['stations'], \\\n",
    "                          key=lambda k: k['last_reported'], reverse = False):\n",
    "    \n",
    "\n",
    "        ## So we're looking for changes in the previous availability at stations. Instead of comparing\n",
    "        ## current to previous at each station, first see if station has reported in since last update\n",
    "        ## IF it hasn't then no need to do math and see if number of bikes have changed\n",
    "        \n",
    "    \n",
    "        if (station['last_reported'] > last_compared_time):\n",
    "            ## we're not going to add new stations that come online after our base case so we\n",
    "            ## will exclude via try/except. Otherwise if a station comes online after we make our initial\n",
    "            ## dict then we will be attempting to update a non-existent key.\n",
    "            \n",
    "            \n",
    "            ## only need one statement in the 'try' block. If key error then use except\n",
    "            ## to pass to the next 'if loop' item, use 'else' statement to execute the rest of statements\n",
    "            ## below.\n",
    "            \n",
    "            ## we need this assigment but are also using it as test to see if we need to ignore a new station\n",
    "            ## previous_bikes_avail is just temp variable for code cleanliness. its set to what is in \n",
    "            ## master dict for current station in jSON feed\n",
    "            try: \n",
    "                \n",
    "                previous_bikes_avail = dict_bikes_master[station['station_id']]['num_bikes_available']\n",
    "                \n",
    "            ## key for current station in JSON feed doesn't exist in our dictionary. We will skip it\n",
    "            except Exception as e:# KeyError:\n",
    "#                 print(e)\n",
    "                pass\n",
    "\n",
    "            ## no exception so just finish up the loop\n",
    "            else:\n",
    "                \n",
    "                \n",
    "                ## now looking for stations whose bikes have changed in quantity, \n",
    "                ## previous is set from master dict, current is from new JSON feed\n",
    "                ## previous is temp variable for code cleanliness\n",
    "                if (previous_bikes_avail != station['num_bikes_available']):\n",
    "                    current_bikes_avail = station['num_bikes_available']\n",
    "                \n",
    "                    ## Print function here\n",
    "                    ## Print out stations that have changes since last query ~10 seconds prior\n",
    "                    \n",
    "                    print_status_console(station)\n",
    "                    \n",
    "\n",
    "                    ## update master data since station has changed\n",
    "                    dict_bikes_master[station['station_id']].update(station)\n",
    "                    set_color_status(dict_bikes_master[station['station_id']])\n",
    "                    ## 4/25\n",
    "                    ## absolute value as we are just interested in total activity for our activity tracker.\n",
    "                    dict_bikes_master[station['station_id']]['total_activity'] +=\\\n",
    "                    abs(current_bikes_avail - previous_bikes_avail)\n",
    "                    \n",
    "                    ## Send text message about low bikes\n",
    "                    if station['num_bikes_available'] < ALERT_NUMBER:\n",
    "#                         pass\n",
    "                        send_alert(station['station_id']) \n",
    "                    \n",
    "            #### AT this point our master dict should be updated with current bike station status\n",
    "            #### Now just copy stations that have positive cumlative activity to JSON file and write out\n",
    "            #### Two JSON feeds needed, one with active stations and their posits\n",
    "            #### Second feed active station and bike activity\n",
    "\n",
    "    for station in dict_bikes_master:\n",
    "            if dict_bikes_master[station]['total_activity'] > 0:\n",
    "                \n",
    "                ## we start from blank list each loop and append activity. Granted we are probably changing\n",
    "                ## only a few items and rewriting unchanged ones but since it's a list this is easiest way\n",
    "                \n",
    "                json_list_bikes_avail.append({#\"ID\": dict_bikes_master[station]['station_id'],\\\n",
    "                        \"name\": dict_bikes_master[station]['name'],\\\n",
    "                        \"Bikes Available\": dict_bikes_master[station]['num_bikes_available'],\\\n",
    "                        \"Updated\": time.ctime(dict_bikes_master[station]['last_reported']),\\\n",
    "                        \"Total Activity\": dict_bikes_master[station]['total_activity'],\\\n",
    "                        \"color\": dict_bikes_master[station]['color']})\n",
    "                \n",
    "                ## Now do the same thing for the location list\n",
    "                \n",
    "                json_list_stations_locations.append({\"name\": dict_bikes_master[station]['name'],\\\n",
    "                        \"Last Reported\": dict_bikes_master[station]['last_reported'],\\\n",
    "                        #\"ID\": dict_bikes_master[station]['station_id'],\\\n",
    "                        \"x\": lon_to_x(dict_bikes_master[station]['lon']),\\\n",
    "                            \"y\": lat_to_y(dict_bikes_master[station]['lat'])})\n",
    "            \n",
    "\n",
    "    ## Order so that newest activity is on top in viz (if overlapping of plotting)\n",
    "    json_list_stations_locations = sorted(json_list_stations_locations, \\\n",
    "                                      key=lambda k: k['Last Reported'], reverse = False) \n",
    "    \n",
    "\n",
    "    ## write out our JSON files\n",
    "    json_out('project_data.json', json_list_bikes_avail, 'data')\n",
    "    json_out('project_posits.json', json_list_stations_locations, 'positions')\n",
    "\n",
    "\n",
    "            \n",
    "    ## update our point of comparison time\n",
    "    last_compared_time = json_bikes_avail_updated['last_updated']\n",
    "    \n",
    "    \n",
    "\n",
    "    \n",
    "    count +=1"
   ]
  },
  {
   "cell_type": "code",
   "execution_count": null,
   "metadata": {
    "collapsed": false
   },
   "outputs": [],
   "source": [
    "for station in dict_bikes_master:\n",
    "    if dict_bikes_master[station]['total_activity'] > 0:\n",
    "        print(dict_bikes_master[station]['total_activity'], dict_bikes_master[station]['name'])\n"
   ]
  },
  {
   "cell_type": "code",
   "execution_count": null,
   "metadata": {
    "collapsed": true
   },
   "outputs": [],
   "source": []
  }
 ],
 "metadata": {
  "anaconda-cloud": {},
  "kernelspec": {
   "display_name": "Python [conda root]",
   "language": "python",
   "name": "conda-root-py"
  },
  "language_info": {
   "codemirror_mode": {
    "name": "ipython",
    "version": 3
   },
   "file_extension": ".py",
   "mimetype": "text/x-python",
   "name": "python",
   "nbconvert_exporter": "python",
   "pygments_lexer": "ipython3",
   "version": "3.5.2"
  }
 },
 "nbformat": 4,
 "nbformat_minor": 2
}
